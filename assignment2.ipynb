{
 "cells": [
  {
   "cell_type": "code",
   "execution_count": 1,
   "id": "0820c90f-0dc4-4406-b239-a2fb2a9dc889",
   "metadata": {},
   "outputs": [
    {
     "name": "stdout",
     "output_type": "stream",
     "text": [
      "Length of the list: 5\n",
      "Sorted list in reverse order: [9, 7, 5, 2, 1]\n"
     ]
    }
   ],
   "source": [
    "#Write a Function to calculate length of a list and sort in in reverse order?\n",
    "def process_list(input_list):\n",
    "    # Calculate the length of the list\n",
    "    length = len(input_list)\n",
    "    \n",
    "    # Sort the list in reverse (descending) order\n",
    "    sorted_list = sorted(input_list, reverse=True)\n",
    "    \n",
    "    # Return both length and the sorted list\n",
    "    return length, sorted_list\n",
    "\n",
    "# Example usage:\n",
    "my_list = [5, 2, 9, 1, 7]\n",
    "length, sorted_list = process_list(my_list)\n",
    "print(\"Length of the list:\", length)\n",
    "print(\"Sorted list in reverse order:\", sorted_list)\n"
   ]
  },
  {
   "cell_type": "code",
   "execution_count": 4,
   "id": "541f880a-45b9-44e9-bcbe-1c4f3a66cef1",
   "metadata": {},
   "outputs": [
    {
     "name": "stdout",
     "output_type": "stream",
     "text": [
      "Sorted list: [1, 1, 2, 3, 6, 8, 10]\n"
     ]
    }
   ],
   "source": [
    "#Implement QuickSort using List (using fewer lines of code).\n",
    "def quicksort(arr):\n",
    "    if len(arr) <= 1:\n",
    "        return arr\n",
    "    pivot = arr[0]\n",
    "    left = quicksort([x for x in arr[1:] if x <= pivot])\n",
    "    right = quicksort([x for x in arr[1:] if x > pivot])\n",
    "    return left + [pivot] + right\n",
    "\n",
    "# Example usage\n",
    "my_list = [3, 6, 8, 10, 1, 2, 1]\n",
    "sorted_list = quicksort(my_list)\n",
    "print(\"Sorted list:\", sorted_list)\n",
    "\n"
   ]
  },
  {
   "cell_type": "code",
   "execution_count": 5,
   "id": "b97b5f88-05be-4a68-aade-a70d27ac2eeb",
   "metadata": {},
   "outputs": [
    {
     "name": "stdout",
     "output_type": "stream",
     "text": [
      "Last 3 elements: [40, 50, 60]\n"
     ]
    }
   ],
   "source": [
    "#Print the last 3 elements of a list without using for loops.\n",
    "my_list = [10, 20, 30, 40, 50, 60]\n",
    "print(\"Last 3 elements:\", my_list[-3:])\n",
    "#You can print the last 3 elements of a list using list slicing, without any loops."
   ]
  },
  {
   "cell_type": "code",
   "execution_count": 6,
   "id": "6a2581ec-4c1b-4548-9dcc-e2505ceb47ca",
   "metadata": {},
   "outputs": [
    {
     "name": "stdout",
     "output_type": "stream",
     "text": [
      "Reversed word by word: Science Data for python to introduction is This\n"
     ]
    }
   ],
   "source": [
    "#Write a code to reverse Word by Word the sentence “This is introduction to python for Data Science”.\n",
    "sentence = \"This is introduction to python for Data Science\"\n",
    "reversed_sentence = ' '.join(sentence.split()[::-1])\n",
    "print(\"Reversed word by word:\", reversed_sentence)\n"
   ]
  },
  {
   "cell_type": "code",
   "execution_count": 7,
   "id": "6d46e3b2-258a-47d7-b266-d3edaeb93d21",
   "metadata": {},
   "outputs": [
    {
     "name": "stdout",
     "output_type": "stream",
     "text": [
      "Sorted list by second value of each tuple: [(5, 1), (1, 2), (7, 3), (3, 6)]\n"
     ]
    }
   ],
   "source": [
    "# Make a List of Tuples like: some_list = [(1, 2), (3, 6),\n",
    "# (5, 1), (7, 3)]. Sort The List according to the second value of\n",
    "# the tuple.\n",
    "# Output : some_list = [(5, 1) ,(1, 2), (7, 3),(3, 6)]\n",
    "\n",
    "\n",
    "\n",
    "\n",
    "# Create a list of tuples\n",
    "some_list = [(1, 2), (3, 6), (5, 1), (7, 3)]\n",
    "\n",
    "# Sort the list using the second value of each tuple as the key\n",
    "some_list.sort(key=lambda x: x[1])\n",
    "\n",
    "# Print the sorted list\n",
    "print(\"Sorted list by second value of each tuple:\", some_list)\n"
   ]
  },
  {
   "cell_type": "markdown",
   "id": "4967e1fe-a0ba-4b33-ba88-d3c7fbe5a3bd",
   "metadata": {},
   "source": [
    "# fileHandling\n"
   ]
  },
  {
   "cell_type": "code",
   "execution_count": 8,
   "id": "4fc7d319-4154-426d-ae25-50e1d87b0333",
   "metadata": {},
   "outputs": [
    {
     "name": "stdout",
     "output_type": "stream",
     "text": [
      "File Content:\n",
      "Alice, 85\n",
      "Bob, 78\n",
      "Carol, 92\n",
      "David, 74\n",
      "Eve, 88\n",
      "\n",
      "Number of students (lines): 5\n",
      "Average score of all students: 83.4\n"
     ]
    }
   ],
   "source": [
    "# Task 1: Understanding Text Files\n",
    "# 1. Create a text file named students.txt and write the following content\n",
    "# into it:\n",
    "# Alice, 85\n",
    "# Bob, 78\n",
    "# Carol, 92\n",
    "# David, 74\n",
    "# Eve, 88\n",
    "# 2. Write a Python program to:\n",
    "# o Read and display the content of the file.\n",
    "# o Count the number of lines in the file.\n",
    "# o Calculate and display the average score of all students.\n",
    "\n",
    "\n",
    "\n",
    "# Step 1: Create and write to the file\n",
    "with open(\"students.txt\", \"w\") as file:\n",
    "    file.write(\"Alice, 85\\n\")\n",
    "    file.write(\"Bob, 78\\n\")\n",
    "    file.write(\"Carol, 92\\n\")\n",
    "    file.write(\"David, 74\\n\")\n",
    "    file.write(\"Eve, 88\\n\")\n",
    "\n",
    "# Step 2: Read and display the content of the file\n",
    "print(\"File Content:\")\n",
    "with open(\"students.txt\", \"r\") as file:\n",
    "    lines = file.readlines()\n",
    "    for line in lines:\n",
    "        print(line.strip())  # Display each line without extra newline\n",
    "\n",
    "# Step 3: Count the number of lines in the file\n",
    "line_count = len(lines)\n",
    "print(\"\\nNumber of students (lines):\", line_count)\n",
    "\n",
    "# Step 4: Calculate and display the average score\n",
    "total_score = 0\n",
    "\n",
    "for line in lines:\n",
    "    # Split by comma and strip whitespace\n",
    "    name, score = line.strip().split(\", \")\n",
    "    total_score += int(score)\n",
    "\n",
    "average_score = total_score / line_count\n",
    "print(\"Average score of all students:\", average_score)\n"
   ]
  },
  {
   "cell_type": "code",
   "execution_count": 1,
   "id": "546238bd-89dd-4864-99b0-215cf6cf0139",
   "metadata": {},
   "outputs": [
    {
     "name": "stdout",
     "output_type": "stream",
     "text": [
      "Updated File Content:\n",
      "Alice, 85\n",
      "Bob, 78\n",
      "Carol, 92\n",
      "David, 74\n",
      "Eve, 88\n",
      "Frank, 81\n",
      "Grace, 95\n"
     ]
    }
   ],
   "source": [
    "# Task 2: Appending Data\n",
    "# 1. Add the following student records to the students.txt file using a\n",
    "# Python program:\n",
    "# Frank, 81\n",
    "# Grace, 95\n",
    "# 2. Verify by reading and displaying the updated file content.\n",
    "\n",
    "# Step 1: Append new student records to the existing file\n",
    "with open(\"students.txt\", \"a\") as file:\n",
    "    file.write(\"Frank, 81\\n\")\n",
    "    file.write(\"Grace, 95\\n\")\n",
    "\n",
    "# Step 2: Read and display the updated file content\n",
    "print(\"Updated File Content:\")\n",
    "with open(\"students.txt\", \"r\") as file:\n",
    "    lines = file.readlines()\n",
    "    for line in lines:\n",
    "        print(line.strip())  # Print each line without extra newline\n"
   ]
  },
  {
   "cell_type": "code",
   "execution_count": 2,
   "id": "52aa6a8d-d801-411c-93d0-f885528947cf",
   "metadata": {},
   "outputs": [
    {
     "name": "stdin",
     "output_type": "stream",
     "text": [
      "Enter the student's name to search:  aayush\n"
     ]
    },
    {
     "name": "stdout",
     "output_type": "stream",
     "text": [
      "Student named 'aayush' not found in the file.\n"
     ]
    }
   ],
   "source": [
    "# Task 3: Searching for Information\n",
    "# Write a Python program that:\n",
    "# 1. Prompts the user to enter a student’s name.\n",
    "# 2. Searches for the student’s record in the file.\n",
    "# 3. Displays the score of the student if found, otherwise shows an\n",
    "# appropriate error message.\n",
    "\n",
    "# Step 1: Prompt the user to enter a student's name\n",
    "student_name = input(\"Enter the student's name to search: \")\n",
    "\n",
    "# Step 2: Open and read the file\n",
    "found = False  # Flag to check if student is found\n",
    "\n",
    "with open(\"students.txt\", \"r\") as file:\n",
    "    lines = file.readlines()\n",
    "    \n",
    "    # Step 3: Search each line for the student's name\n",
    "    for line in lines:\n",
    "        name, score = line.strip().split(\", \")\n",
    "        if name.lower() == student_name.lower():  # Case-insensitive search\n",
    "            print(f\"{name}'s score is: {score}\")\n",
    "            found = True\n",
    "            break\n",
    "\n",
    "# Step 4: Show error message if student not found\n",
    "if not found:\n",
    "    print(f\"Student named '{student_name}' not found in the file.\")\n"
   ]
  },
  {
   "cell_type": "code",
   "execution_count": 3,
   "id": "5dde4bb1-256a-4a68-a726-13f2806cbd4d",
   "metadata": {},
   "outputs": [
    {
     "name": "stdout",
     "output_type": "stream",
     "text": [
      "Students with scores greater than 80:\n",
      "Alice, 85\n",
      "Carol, 92\n",
      "Eve, 88\n",
      "Frank, 81\n",
      "Grace, 95\n"
     ]
    }
   ],
   "source": [
    "# Task 4: Writing to a New File\n",
    "# 1. Create a Python program that reads the students.txt file and writes\n",
    "# all student records with scores greater than 80 into a new file named\n",
    "# high_scores.txt.\n",
    "# 2. Display the content of the high_scores.txt file.\n",
    "\n",
    "# Step 1: Read from the original students.txt file\n",
    "with open(\"students.txt\", \"r\") as infile:\n",
    "    lines = infile.readlines()\n",
    "\n",
    "# Step 2: Filter students with scores greater than 80\n",
    "high_scorers = []\n",
    "for line in lines:\n",
    "    name, score = line.strip().split(\", \")\n",
    "    if int(score) > 80:\n",
    "        high_scorers.append(line)\n",
    "\n",
    "# Step 3: Write the filtered records to high_scores.txt\n",
    "with open(\"high_scores.txt\", \"w\") as outfile:\n",
    "    outfile.writelines(high_scorers)\n",
    "\n",
    "# Step 4: Display the content of high_scores.txt\n",
    "print(\"Students with scores greater than 80:\")\n",
    "with open(\"high_scores.txt\", \"r\") as file:\n",
    "    for line in file:\n",
    "        print(line.strip())\n"
   ]
  },
  {
   "cell_type": "code",
   "execution_count": 8,
   "id": "c1f66ee8-f958-4497-abc7-15637dc5736b",
   "metadata": {},
   "outputs": [
    {
     "name": "stdout",
     "output_type": "stream",
     "text": [
      "\n",
      "Students with scores greater than 80:\n",
      "Alice, 85\n",
      "Carol, 92\n",
      "Eve, 88\n",
      "Frank, 81\n",
      "Grace, 95\n"
     ]
    }
   ],
   "source": [
    "# Task 5: Error Handling\n",
    "# 1. Modify your programs to handle the following errors:\n",
    "# o File not found.\n",
    "# o Incorrect file format.\n",
    "# o Handling empty files gracefully.\n",
    "\n",
    "try:\n",
    "    with open(\"students.txt\",\"r\") as f:\n",
    "        lines = f.readlines()\n",
    "\n",
    "        if not lines:\n",
    "            print(\"file is empty\")\n",
    "        else:\n",
    "            high_scores = []\n",
    "\n",
    "            for line in lines:\n",
    "                try:\n",
    "                    name, score = line.strip().split(\",\")\n",
    "                    score = int(score)\n",
    "                    if score > 80:\n",
    "                        high_scores.append(f\"{name}, {score}\")\n",
    "                except ValueError:\n",
    "                    print(\"improper format\")\n",
    "\n",
    "        with open(\"high_scorers.txt\",'a') as f:\n",
    "               f.writelines(high_scores)\n",
    "\n",
    "            \n",
    "        # Step 4: Display the content of high_scores.txt\n",
    "        print(\"\\nStudents with scores greater than 80:\")\n",
    "        if high_scorers:\n",
    "            for entry in high_scorers:\n",
    "                print(entry.strip())\n",
    "        else:\n",
    "            print(\"No students scored above 80.\")\n",
    "\n",
    "                \n",
    "except FileNotFoundError:\n",
    "    print('this file not exists')\n",
    "            "
   ]
  },
  {
   "cell_type": "code",
   "execution_count": 1,
   "id": "8fe5d58e-bd05-45a3-a6df-83e302c4b31b",
   "metadata": {},
   "outputs": [
    {
     "name": "stdout",
     "output_type": "stream",
     "text": [
      "\n",
      "📊 Summary Report:\n",
      "Total number of students: 7\n",
      "Highest score: 95 by Grace\n",
      "Lowest score: 74 by David\n",
      "Average score: 84.71\n",
      "Students who scored below 75:\n",
      "- David\n"
     ]
    }
   ],
   "source": [
    "# Task 6: Cumulation\n",
    "# 1. Create a Python program to generate a summary report that\n",
    "# includes:\n",
    "# o Total number of students.\n",
    "# o Highest and lowest scores with corresponding student names.\n",
    "# o Average score.\n",
    "# o A list of students who scored below 75.\n",
    "\n",
    "\n",
    "\n",
    "try:\n",
    "    # Step 1: Read the file\n",
    "    with open(\"students.txt\", \"r\") as file:\n",
    "        lines = file.readlines()\n",
    "\n",
    "    # Step 2: Handle empty file case\n",
    "    if not lines:\n",
    "        print(\"The file is empty. No data to process.\")\n",
    "    else:\n",
    "        students = []  # To store valid (name, score) tuples\n",
    "\n",
    "        for line in lines:\n",
    "            try:\n",
    "                # Step 3: Split and convert each line to name and integer score\n",
    "                name, score = line.strip().split(\", \")\n",
    "                score = int(score)\n",
    "                students.append((name, score))\n",
    "            except ValueError:\n",
    "                # Handles incorrect formatting like missing comma or non-integer score\n",
    "                print(f\"Skipping invalid line format: '{line.strip()}'\")\n",
    "\n",
    "        if students:\n",
    "            # Total number of students\n",
    "            total_students = len(students)\n",
    "\n",
    "            # Average score calculation\n",
    "            total_score = sum(score for _, score in students)\n",
    "            average_score = total_score / total_students\n",
    "\n",
    "            # Find highest and lowest scores with names\n",
    "            highest = max(students, key=lambda x: x[1])\n",
    "            lowest = min(students, key=lambda x: x[1])\n",
    "\n",
    "            # List of students who scored below 75\n",
    "            below_75 = [name for name, score in students if score < 75]\n",
    "\n",
    "            # Step 4: Display the summary\n",
    "            print(\"\\n📊 Summary Report:\")\n",
    "            print(f\"Total number of students: {total_students}\")\n",
    "            print(f\"Highest score: {highest[1]} by {highest[0]}\")\n",
    "            print(f\"Lowest score: {lowest[1]} by {lowest[0]}\")\n",
    "            print(f\"Average score: {average_score:.2f}\")\n",
    "            print(\"Students who scored below 75:\")\n",
    "            if below_75:\n",
    "                for student in below_75:\n",
    "                    print(f\"- {student}\")\n",
    "            else:\n",
    "                print(\"None\")\n",
    "        else:\n",
    "            print(\"No valid student data found.\")\n",
    "\n",
    "except FileNotFoundError:\n",
    "    print(\"Error: The file 'students.txt' was not found.\")\n"
   ]
  },
  {
   "cell_type": "code",
   "execution_count": null,
   "id": "8d1144ce-e39e-4762-94e9-4f61e207d2c9",
   "metadata": {},
   "outputs": [],
   "source": []
  }
 ],
 "metadata": {
  "kernelspec": {
   "display_name": "Python 3 (ipykernel)",
   "language": "python",
   "name": "python3"
  },
  "language_info": {
   "codemirror_mode": {
    "name": "ipython",
    "version": 3
   },
   "file_extension": ".py",
   "mimetype": "text/x-python",
   "name": "python",
   "nbconvert_exporter": "python",
   "pygments_lexer": "ipython3",
   "version": "3.13.3"
  }
 },
 "nbformat": 4,
 "nbformat_minor": 5
}
