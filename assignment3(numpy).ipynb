{
 "cells": [
  {
   "cell_type": "code",
   "execution_count": 1,
   "id": "d51dc05f-0606-4b8a-9277-556032326b81",
   "metadata": {},
   "outputs": [
    {
     "name": "stdout",
     "output_type": "stream",
     "text": [
      "Requirement already satisfied: numpy in /opt/homebrew/lib/python3.13/site-packages (2.2.4)\n",
      "Note: you may need to restart the kernel to use updated packages.\n"
     ]
    }
   ],
   "source": [
    "pip install numpy\n"
   ]
  },
  {
   "cell_type": "code",
   "execution_count": 2,
   "id": "9ff1ec02-9c0a-4df8-ba55-1e7bdf29e1be",
   "metadata": {},
   "outputs": [],
   "source": [
    "import numpy as np"
   ]
  },
  {
   "cell_type": "code",
   "execution_count": 8,
   "id": "fe10df1a-c6db-4dad-b57e-13161f2135c5",
   "metadata": {},
   "outputs": [
    {
     "data": {
      "text/plain": [
       "array([ 1,  2,  3,  4,  5,  6,  7,  8,  9, 10])"
      ]
     },
     "execution_count": 8,
     "metadata": {},
     "output_type": "execute_result"
    }
   ],
   "source": [
    "\n",
    "arr = np.array([1,2,3,4,5,6,7,8,9,10])\n",
    "arr"
   ]
  },
  {
   "cell_type": "code",
   "execution_count": 22,
   "id": "dd70ee0f-892f-4414-b19e-6316da39a70f",
   "metadata": {},
   "outputs": [
    {
     "data": {
      "text/plain": [
       "array([ 1,  2,  3,  4,  5,  6,  7,  8,  9, 10])"
      ]
     },
     "execution_count": 22,
     "metadata": {},
     "output_type": "execute_result"
    }
   ],
   "source": [
    "arr1 = np.arange(1,11)\n",
    "arr1"
   ]
  },
  {
   "cell_type": "code",
   "execution_count": 23,
   "id": "12f8573c-7dd5-4678-9977-dab51a021d49",
   "metadata": {},
   "outputs": [
    {
     "data": {
      "text/plain": [
       "array([[1, 2, 3],\n",
       "       [4, 5, 6],\n",
       "       [7, 8, 9]])"
      ]
     },
     "execution_count": 23,
     "metadata": {},
     "output_type": "execute_result"
    }
   ],
   "source": [
    "arr2 = np.arange(1,10).reshape(3,3)\n",
    "arr2"
   ]
  },
  {
   "cell_type": "code",
   "execution_count": 24,
   "id": "a0462e20-17a8-45d5-b9cd-5393d61f577e",
   "metadata": {},
   "outputs": [
    {
     "data": {
      "text/plain": [
       "array([[[0.31979906, 0.90980845, 0.76194345],\n",
       "        [0.98214928, 0.52615088, 0.40123324],\n",
       "        [0.6573478 , 0.11830792, 0.73652753],\n",
       "        [0.15692946, 0.29844076, 0.83370474],\n",
       "        [0.80602573, 0.58325327, 0.01979823]],\n",
       "\n",
       "       [[0.24537203, 0.68051717, 0.22859107],\n",
       "        [0.12308687, 0.35463743, 0.72818429],\n",
       "        [0.11503162, 0.90190081, 0.20721987],\n",
       "        [0.68907459, 0.98112831, 0.25683866],\n",
       "        [0.71951629, 0.39664431, 0.79861201]],\n",
       "\n",
       "       [[0.6136751 , 0.31196976, 0.46185211],\n",
       "        [0.57924843, 0.56790241, 0.46847894],\n",
       "        [0.61029499, 0.51594271, 0.18555904],\n",
       "        [0.04972814, 0.76383656, 0.28845913],\n",
       "        [0.33253631, 0.22829811, 0.55353411]]])"
      ]
     },
     "execution_count": 24,
     "metadata": {},
     "output_type": "execute_result"
    }
   ],
   "source": [
    "arr3 = np.random.rand(3,5,3)\n",
    "arr3"
   ]
  },
  {
   "cell_type": "code",
   "execution_count": 27,
   "id": "59d15a59-276f-4752-95f3-de60a1cae98b",
   "metadata": {},
   "outputs": [
    {
     "data": {
      "text/plain": [
       "(10,)"
      ]
     },
     "execution_count": 27,
     "metadata": {},
     "output_type": "execute_result"
    }
   ],
   "source": [
    "np.shape(arr1)"
   ]
  },
  {
   "cell_type": "code",
   "execution_count": 28,
   "id": "06b8441d-d25b-4214-91a4-ff9e38f7a47e",
   "metadata": {},
   "outputs": [
    {
     "data": {
      "text/plain": [
       "9"
      ]
     },
     "execution_count": 28,
     "metadata": {},
     "output_type": "execute_result"
    }
   ],
   "source": [
    "np.size(arr2)"
   ]
  },
  {
   "cell_type": "code",
   "execution_count": 34,
   "id": "752a187a-c5d0-45d5-88fe-bd6d18147d35",
   "metadata": {},
   "outputs": [
    {
     "name": "stdout",
     "output_type": "stream",
     "text": [
      "float64\n"
     ]
    }
   ],
   "source": [
    "print(arr3.dtype)"
   ]
  },
  {
   "cell_type": "code",
   "execution_count": 35,
   "id": "2f8c47b0-8505-4a72-a6ee-fd2555952356",
   "metadata": {},
   "outputs": [
    {
     "data": {
      "text/plain": [
       "array([10, 20, 30, 40, 50, 60, 70, 80, 90])"
      ]
     },
     "execution_count": 35,
     "metadata": {},
     "output_type": "execute_result"
    }
   ],
   "source": [
    "data = [10, 20, 30, 40, 50, 60, 70, 80, 90]\n",
    "data = np.array(data)\n",
    "data"
   ]
  },
  {
   "cell_type": "code",
   "execution_count": 42,
   "id": "a6df7776-cc5d-41d8-85b8-efc80ebd556f",
   "metadata": {},
   "outputs": [
    {
     "data": {
      "text/plain": [
       "array([10, 20, 30])"
      ]
     },
     "execution_count": 42,
     "metadata": {},
     "output_type": "execute_result"
    }
   ],
   "source": [
    "data[:3]"
   ]
  },
  {
   "cell_type": "code",
   "execution_count": 44,
   "id": "3670da6a-f85b-4915-9049-07ffb12e1e39",
   "metadata": {},
   "outputs": [
    {
     "data": {
      "text/plain": [
       "array([10, 30, 50, 70, 90])"
      ]
     },
     "execution_count": 44,
     "metadata": {},
     "output_type": "execute_result"
    }
   ],
   "source": [
    "al = data[::2]\n",
    "al"
   ]
  },
  {
   "cell_type": "code",
   "execution_count": 45,
   "id": "04b91ef9-b455-4fd7-a530-61b59e45d4d2",
   "metadata": {},
   "outputs": [
    {
     "data": {
      "text/plain": [
       "array([90, 80, 70, 60, 50, 40, 30, 20, 10])"
      ]
     },
     "execution_count": 45,
     "metadata": {},
     "output_type": "execute_result"
    }
   ],
   "source": [
    "rev = data[::-1]\n",
    "rev"
   ]
  },
  {
   "cell_type": "code",
   "execution_count": 47,
   "id": "dc2397c9-3191-49c6-98f0-7e87cdde427a",
   "metadata": {},
   "outputs": [
    {
     "data": {
      "text/plain": [
       "array([10, 15, 12, 12,  8])"
      ]
     },
     "execution_count": 47,
     "metadata": {},
     "output_type": "execute_result"
    }
   ],
   "source": [
    "A = np.random.randint(1,20,size = (5))\n",
    "A"
   ]
  },
  {
   "cell_type": "code",
   "execution_count": 48,
   "id": "7734f9f9-c809-439a-bb2d-ea4773376661",
   "metadata": {},
   "outputs": [
    {
     "data": {
      "text/plain": [
       "array([ 6,  4, 10,  8, 19])"
      ]
     },
     "execution_count": 48,
     "metadata": {},
     "output_type": "execute_result"
    }
   ],
   "source": [
    "B = np.random.randint(1,20,size = (5))\n",
    "B"
   ]
  },
  {
   "cell_type": "code",
   "execution_count": 49,
   "id": "7e660207-af14-400b-8e41-18af6bb0beb5",
   "metadata": {},
   "outputs": [
    {
     "data": {
      "text/plain": [
       "array([16, 19, 22, 20, 27])"
      ]
     },
     "execution_count": 49,
     "metadata": {},
     "output_type": "execute_result"
    }
   ],
   "source": [
    "A + B"
   ]
  },
  {
   "cell_type": "code",
   "execution_count": 50,
   "id": "d6391022-a488-4100-9d07-3a8929283ac5",
   "metadata": {},
   "outputs": [
    {
     "data": {
      "text/plain": [
       "array([ 60,  60, 120,  96, 152])"
      ]
     },
     "execution_count": 50,
     "metadata": {},
     "output_type": "execute_result"
    }
   ],
   "source": [
    "A*B\n"
   ]
  },
  {
   "cell_type": "code",
   "execution_count": 51,
   "id": "8a244299-7e78-4db9-ac77-35427ea8c45d",
   "metadata": {},
   "outputs": [
    {
     "data": {
      "text/plain": [
       "array([1.66666667, 3.75      , 1.2       , 1.5       , 0.42105263])"
      ]
     },
     "execution_count": 51,
     "metadata": {},
     "output_type": "execute_result"
    }
   ],
   "source": [
    "A/B"
   ]
  },
  {
   "cell_type": "code",
   "execution_count": 52,
   "id": "91ffdefd-eb4e-4980-9aae-7feb4c74963f",
   "metadata": {},
   "outputs": [
    {
     "data": {
      "text/plain": [
       "array([4, 3, 2, 4, 8])"
      ]
     },
     "execution_count": 52,
     "metadata": {},
     "output_type": "execute_result"
    }
   ],
   "source": [
    "A%B"
   ]
  },
  {
   "cell_type": "code",
   "execution_count": 54,
   "id": "ae1f518a-c862-4bc8-985a-2c000c4f2077",
   "metadata": {},
   "outputs": [
    {
     "data": {
      "text/plain": [
       "np.int64(488)"
      ]
     },
     "execution_count": 54,
     "metadata": {},
     "output_type": "execute_result"
    }
   ],
   "source": [
    "np.dot(A,B)"
   ]
  },
  {
   "cell_type": "code",
   "execution_count": 1,
   "id": "832082f9-1e67-47ff-a0cb-2c7c8d859419",
   "metadata": {},
   "outputs": [
    {
     "name": "stdout",
     "output_type": "stream",
     "text": [
      "Original 1D array: [ 1  2  3  4  5  6  7  8  9 10 11 12]\n",
      "\n",
      "Reshaped to 2D array (4 rows, 3 columns):\n",
      " [[ 1  2  3]\n",
      " [ 4  5  6]\n",
      " [ 7  8  9]\n",
      " [10 11 12]]\n",
      "\n",
      "Reshaped to 3D array (2 blocks, 2 rows, 3 columns):\n",
      " [[[ 1  2  3]\n",
      "  [ 4  5  6]]\n",
      "\n",
      " [[ 7  8  9]\n",
      "  [10 11 12]]]\n",
      "\n",
      "Transposed 2D array:\n",
      " [[ 1  4  7 10]\n",
      " [ 2  5  8 11]\n",
      " [ 3  6  9 12]]\n",
      "\n",
      "Shape of the transposed array: (3, 4)\n"
     ]
    }
   ],
   "source": [
    "# Task 4: Reshaping and Transposing\n",
    "# 1. 2. Create a 1D NumPy array of 12 integers ranging from 1 to 12.\n",
    "# Write a Python program to:\n",
    "# o Reshape the array into a 2D array of shape (4, 3).\n",
    "# o Reshape the array into a 3D array of shape (2, 2, 3).\n",
    "# o Transpose the reshaped 2D array and display its shape.\n",
    "\n",
    "\n",
    "import numpy as np\n",
    "\n",
    "# Step 1: Create a 1D array with integers from 1 to 12\n",
    "arr = np.arange(1, 13)\n",
    "\n",
    "# Show the original array\n",
    "print(\"Original 1D array:\", arr)\n",
    "\n",
    "# Step 2a: Reshape the array into 2D with shape (4, 3)\n",
    "arr_2d = arr.reshape(4, 3)\n",
    "print(\"\\nReshaped to 2D array (4 rows, 3 columns):\\n\", arr_2d)\n",
    "\n",
    "# Step 2b: Reshape the array into 3D with shape (2, 2, 3)\n",
    "arr_3d = arr.reshape(2, 2, 3)\n",
    "print(\"\\nReshaped to 3D array (2 blocks, 2 rows, 3 columns):\\n\", arr_3d)\n",
    "\n",
    "# Step 2c: Transpose the 2D array\n",
    "arr_2d_transposed = arr_2d.T\n",
    "print(\"\\nTransposed 2D array:\\n\", arr_2d_transposed)\n",
    "\n",
    "# Show the shape of the transposed array\n",
    "print(\"\\nShape of the transposed array:\", arr_2d_transposed.shape)\n"
   ]
  },
  {
   "cell_type": "code",
   "execution_count": 2,
   "id": "e8cedc70-de80-4d8d-93d9-95c824bc6e7e",
   "metadata": {},
   "outputs": [
    {
     "name": "stdout",
     "output_type": "stream",
     "text": [
      "Original array: [32 43 43 17 33 25 46 34 18 21 41 30 36 39 21]\n",
      "\n",
      "Elements greater than 25: [32 43 43 33 46 34 41 30 36 39]\n",
      "\n",
      "Array after replacing elements less than 30 with 0:\n",
      " [32 43 43  0 33  0 46 34  0  0 41 30 36 39  0]\n",
      "\n",
      "Number of elements divisible by 5: 2\n"
     ]
    }
   ],
   "source": [
    "# Task 5: Boolean Masking and Filtering\n",
    "# 1. 2. Create a NumPy array with 15 random integers between 10 and 50.\n",
    "# Write a Python program to:\n",
    "# o Find all elements greater than 25.\n",
    "# o Replace all elements less than 30 with 0.\n",
    "# o Count the number of elements divisible by 5.\n",
    "\n",
    "import numpy as np\n",
    "\n",
    "# Step 1: Create a NumPy array with 15 random integers between 10 and 50\n",
    "arr = np.random.randint(10, 51, size=15)\n",
    "\n",
    "# Show the original array\n",
    "print(\"Original array:\", arr)\n",
    "\n",
    "# Step 2a: Find all elements greater than 25\n",
    "greater_than_25 = arr[arr > 25]\n",
    "print(\"\\nElements greater than 25:\", greater_than_25)\n",
    "\n",
    "# Step 2b: Replace all elements less than 30 with 0\n",
    "arr_modified = arr.copy()  # Make a copy to keep original safe\n",
    "arr_modified[arr_modified < 30] = 0\n",
    "print(\"\\nArray after replacing elements less than 30 with 0:\\n\", arr_modified)\n",
    "\n",
    "# Step 2c: Count the number of elements divisible by 5\n",
    "divisible_by_5 = arr[arr % 5 == 0]\n",
    "count_divisible_by_5 = divisible_by_5.size\n",
    "print(\"\\nNumber of elements divisible by 5:\", count_divisible_by_5)\n"
   ]
  },
  {
   "cell_type": "code",
   "execution_count": null,
   "id": "39c75293-9aa2-4903-975d-ad2fb85bd031",
   "metadata": {},
   "outputs": [],
   "source": []
  }
 ],
 "metadata": {
  "kernelspec": {
   "display_name": "Python 3 (ipykernel)",
   "language": "python",
   "name": "python3"
  },
  "language_info": {
   "codemirror_mode": {
    "name": "ipython",
    "version": 3
   },
   "file_extension": ".py",
   "mimetype": "text/x-python",
   "name": "python",
   "nbconvert_exporter": "python",
   "pygments_lexer": "ipython3",
   "version": "3.13.3"
  }
 },
 "nbformat": 4,
 "nbformat_minor": 5
}
