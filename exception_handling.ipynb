{
 "cells": [
  {
   "cell_type": "markdown",
   "id": "55d11c99-9eab-47bb-b2ef-44eb5bb79406",
   "metadata": {},
   "source": [
    "# Exception Handling\n",
    "- In Python, exceptions are errors that occur during the execution of a program. If they are not handled, the program crashes.\n",
    "\n",
    "- Python provides a way to handle these exceptions using try-except blocks.\n",
    "- try\tWrite risky code\n",
    "- except\tCatch and handle exceptions\n",
    "- else\tExecutes if no exception\n",
    "- finally\tAlways executes (even if exception occurs)\n",
    "- raise\tManually raise an exception\n",
    "- Exception\tBase class for all built-in exceptions\n",
    "    \n",
    "\n"
   ]
  },
  {
   "cell_type": "code",
   "execution_count": 1,
   "id": "91f0d879-3678-4606-bd60-731b38665134",
   "metadata": {},
   "outputs": [
    {
     "name": "stdin",
     "output_type": "stream",
     "text": [
      "Enter a number:  4\n"
     ]
    },
    {
     "name": "stdout",
     "output_type": "stream",
     "text": [
      "Result: 2.5\n"
     ]
    }
   ],
   "source": [
    "try:\n",
    "    num = int(input(\"Enter a number: \"))\n",
    "    result = 10 / num\n",
    "    print(\"Result:\", result)\n",
    "except ZeroDivisionError:\n",
    "    print(\"You can't divide by zero!\")\n",
    "except ValueError:\n",
    "    print(\"Invalid input! Please enter a number.\")\n"
   ]
  },
  {
   "cell_type": "code",
   "execution_count": 2,
   "id": "2ea4b3d8-bec8-4cf9-998c-f03885091198",
   "metadata": {},
   "outputs": [
    {
     "ename": "IndentationError",
     "evalue": "expected an indented block after 'try' statement on line 1 (3932144596.py, line 3)",
     "output_type": "error",
     "traceback": [
      "  \u001b[36mCell\u001b[39m\u001b[36m \u001b[39m\u001b[32mIn[2]\u001b[39m\u001b[32m, line 3\u001b[39m\n\u001b[31m    \u001b[39m\u001b[31mexcept SomeException:\u001b[39m\n    ^\n\u001b[31mIndentationError\u001b[39m\u001b[31m:\u001b[39m expected an indented block after 'try' statement on line 1\n"
     ]
    }
   ],
   "source": [
    "try:\n",
    "    # risky code\n",
    "except SomeException:\n",
    "    # handling code\n",
    "else:\n",
    "    # runs only if no exception occurs\n",
    "finally:\n",
    "    # always runs (cleanup etc.)\n"
   ]
  },
  {
   "cell_type": "markdown",
   "id": "46bb5f50-84ab-4cce-a120-03e47a0fe198",
   "metadata": {},
   "source": [
    "#  Custom Exceptions (User-defined)\n",
    "- You can create your own exceptions by extending the built-in Exception class.\n",
    "\n",
    "- AgeTooSmallError is a custom exception.\n",
    "\n",
    "- You raise it when your specific condition fails.\n",
    "\n",
    "- This makes your code more readable and manageable."
   ]
  },
  {
   "cell_type": "code",
   "execution_count": 3,
   "id": "5f4b977e-ade4-4dda-a036-ebaeb8ac4e51",
   "metadata": {},
   "outputs": [
    {
     "name": "stdout",
     "output_type": "stream",
     "text": [
      "Custom Exception Caught: Age must be 18 or older.\n"
     ]
    }
   ],
   "source": [
    "class AgeTooSmallError(Exception):\n",
    "    \"\"\"Custom exception for too small age\"\"\"\n",
    "    pass\n",
    "\n",
    "age = 15\n",
    "try:\n",
    "    if age < 18:\n",
    "        raise AgeTooSmallError(\"Age must be 18 or older.\")\n",
    "    print(\"You are eligible.\")\n",
    "except AgeTooSmallError as e:\n",
    "    print(\"Custom Exception Caught:\", e)\n"
   ]
  },
  {
   "cell_type": "code",
   "execution_count": null,
   "id": "f89f84c5-6cb3-4fbe-a473-1b41e20a8bef",
   "metadata": {},
   "outputs": [],
   "source": []
  }
 ],
 "metadata": {
  "kernelspec": {
   "display_name": "Python 3 (ipykernel)",
   "language": "python",
   "name": "python3"
  },
  "language_info": {
   "codemirror_mode": {
    "name": "ipython",
    "version": 3
   },
   "file_extension": ".py",
   "mimetype": "text/x-python",
   "name": "python",
   "nbconvert_exporter": "python",
   "pygments_lexer": "ipython3",
   "version": "3.13.3"
  }
 },
 "nbformat": 4,
 "nbformat_minor": 5
}
