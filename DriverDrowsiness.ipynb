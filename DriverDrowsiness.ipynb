{
 "cells": [
  {
   "cell_type": "code",
   "execution_count": 1,
   "id": "06cea1ea-3595-4062-92d5-fb12089ef21c",
   "metadata": {},
   "outputs": [
    {
     "name": "stdout",
     "output_type": "stream",
     "text": [
      "Defaulting to user installation because normal site-packages is not writeable\n",
      "Requirement already satisfied: opencv-python in /Users/aayushbhatia/Library/Python/3.9/lib/python/site-packages (4.11.0.86)\n",
      "Requirement already satisfied: numpy>=1.17.3 in /Users/aayushbhatia/Library/Python/3.9/lib/python/site-packages (from opencv-python) (2.0.2)\n",
      "\u001b[33mWARNING: You are using pip version 21.2.4; however, version 25.0.1 is available.\n",
      "You should consider upgrading via the '/Library/Developer/CommandLineTools/usr/bin/python3 -m pip install --upgrade pip' command.\u001b[0m\n"
     ]
    }
   ],
   "source": [
    "!pip3 install opencv-python\n"
   ]
  },
  {
   "cell_type": "code",
   "execution_count": 2,
   "id": "b7f6bf76-917f-476e-a8c9-2173961e256a",
   "metadata": {},
   "outputs": [
    {
     "name": "stdout",
     "output_type": "stream",
     "text": [
      "Defaulting to user installation because normal site-packages is not writeable\n",
      "Requirement already satisfied: opencv-python-headless in /Users/aayushbhatia/Library/Python/3.9/lib/python/site-packages (4.11.0.86)\n",
      "Requirement already satisfied: numpy>=1.21.0 in /Users/aayushbhatia/Library/Python/3.9/lib/python/site-packages (from opencv-python-headless) (2.0.2)\n",
      "\u001b[33mWARNING: You are using pip version 21.2.4; however, version 25.0.1 is available.\n",
      "You should consider upgrading via the '/Library/Developer/CommandLineTools/usr/bin/python3 -m pip install --upgrade pip' command.\u001b[0m\n"
     ]
    }
   ],
   "source": [
    "!pip3 install opencv-python-headless\n"
   ]
  },
  {
   "cell_type": "code",
   "execution_count": 13,
   "id": "1446bec9-62ce-49ca-9a7f-76c4716eea93",
   "metadata": {},
   "outputs": [
    {
     "ename": "SyntaxError",
     "evalue": "invalid syntax (1949357188.py, line 1)",
     "output_type": "error",
     "traceback": [
      "  \u001b[36mCell\u001b[39m\u001b[36m \u001b[39m\u001b[32mIn[13]\u001b[39m\u001b[32m, line 1\u001b[39m\n\u001b[31m    \u001b[39m\u001b[31mKernel > Restart Kernel\u001b[39m\n                     ^\n\u001b[31mSyntaxError\u001b[39m\u001b[31m:\u001b[39m invalid syntax\n"
     ]
    }
   ],
   "source": [
    "Kernel > Restart Kernel\n",
    "\n"
   ]
  },
  {
   "cell_type": "code",
   "execution_count": 3,
   "id": "134a6af6-6e7a-4076-9465-0dad706cac87",
   "metadata": {},
   "outputs": [
    {
     "ename": "ModuleNotFoundError",
     "evalue": "No module named 'cv2'",
     "output_type": "error",
     "traceback": [
      "\u001b[31m---------------------------------------------------------------------------\u001b[39m",
      "\u001b[31mModuleNotFoundError\u001b[39m                       Traceback (most recent call last)",
      "\u001b[36mCell\u001b[39m\u001b[36m \u001b[39m\u001b[32mIn[3]\u001b[39m\u001b[32m, line 1\u001b[39m\n\u001b[32m----> \u001b[39m\u001b[32m1\u001b[39m \u001b[38;5;28;01mimport\u001b[39;00m\u001b[38;5;250m \u001b[39m\u001b[34;01mcv2\u001b[39;00m\n",
      "\u001b[31mModuleNotFoundError\u001b[39m: No module named 'cv2'"
     ]
    }
   ],
   "source": [
    "import cv2\n"
   ]
  },
  {
   "cell_type": "code",
   "execution_count": null,
   "id": "4fbb05c5-a125-4a67-b064-325f64bd5cc0",
   "metadata": {},
   "outputs": [],
   "source": []
  },
  {
   "cell_type": "code",
   "execution_count": null,
   "id": "e5e43cfe-060e-4cc4-bee7-27adb408c8a9",
   "metadata": {},
   "outputs": [],
   "source": []
  },
  {
   "cell_type": "code",
   "execution_count": null,
   "id": "73171737-b00f-4b04-b498-a5fff99e30ce",
   "metadata": {},
   "outputs": [],
   "source": []
  },
  {
   "cell_type": "code",
   "execution_count": null,
   "id": "9687abac-94a7-4a0d-bd4e-f910c611c2e7",
   "metadata": {},
   "outputs": [],
   "source": []
  },
  {
   "cell_type": "code",
   "execution_count": 1,
   "id": "ee276b87-70ac-464e-8c83-02422e99c373",
   "metadata": {},
   "outputs": [
    {
     "ename": "ModuleNotFoundError",
     "evalue": "No module named 'cv2'",
     "output_type": "error",
     "traceback": [
      "\u001b[31m---------------------------------------------------------------------------\u001b[39m",
      "\u001b[31mModuleNotFoundError\u001b[39m                       Traceback (most recent call last)",
      "\u001b[36mCell\u001b[39m\u001b[36m \u001b[39m\u001b[32mIn[1]\u001b[39m\u001b[32m, line 1\u001b[39m\n\u001b[32m----> \u001b[39m\u001b[32m1\u001b[39m \u001b[38;5;28;01mimport\u001b[39;00m\u001b[38;5;250m \u001b[39m\u001b[34;01mcv2\u001b[39;00m\n\u001b[32m      2\u001b[39m \u001b[38;5;28;01mimport\u001b[39;00m\u001b[38;5;250m \u001b[39m\u001b[34;01mdlib\u001b[39;00m\n\u001b[32m      3\u001b[39m \u001b[38;5;28;01mfrom\u001b[39;00m\u001b[38;5;250m \u001b[39m\u001b[34;01mscipy\u001b[39;00m\u001b[34;01m.\u001b[39;00m\u001b[34;01mspatial\u001b[39;00m\u001b[38;5;250m \u001b[39m\u001b[38;5;28;01mimport\u001b[39;00m distance\n",
      "\u001b[31mModuleNotFoundError\u001b[39m: No module named 'cv2'"
     ]
    }
   ],
   "source": [
    "import cv2\n",
    "import dlib\n",
    "from scipy.spatial import distance\n",
    "import winsound\n",
    "from imutils import face_utils\n",
    "\n",
    "# Function to calculate the eye aspect ratio (EAR)\n",
    "def eye_aspect_ratio(eye):\n",
    "    A = distance.euclidean(eye[1], eye[5])\n",
    "    B = distance.euclidean(eye[2], eye[4])\n",
    "    C = distance.euclidean(eye[0], eye[3])\n",
    "    ear = (A + B) / (2.0 * C)\n",
    "    return ear\n",
    "\n",
    "# Function to calculate the mouth aspect ratio (MAR)\n",
    "def mouth_aspect_ratio(mouth):\n",
    "    A = distance.euclidean(mouth[2], mouth[10])\n",
    "    B = distance.euclidean(mouth[4], mouth[8])\n",
    "    C = distance.euclidean(mouth[0], mouth[6])\n",
    "    mar = (A + B) / (2.0 * C)\n",
    "    return mar\n",
    "\n",
    "# Constants for eye aspect ratio (EAR) thresholds\n",
    "EAR_THRESHOLD = 0.25\n",
    "EAR_CONSEC_FRAMES = 48\n",
    "\n",
    "# Constants for mouth aspect ratio (MAR) thresholds\n",
    "MAR_THRESHOLD = 0.7\n",
    "MAR_CONSEC_FRAMES = 10\n",
    "YAWN_COUNTER_THRESHOLD = 6\n",
    "\n",
    "# Initialize dlib's face detector and create a facial landmark predictor\n",
    "detector = dlib.get_frontal_face_detector()\n",
    "predictor = dlib.shape_predictor(r'Driver Drosiness\\shape_predictor_68_face_landmarks.dat')\n",
    "\n",
    "# Initialize the frame counters\n",
    "frames_counter = 0\n",
    "blink_counter = 0\n",
    "yawn_counter = 0\n",
    "drowsy = False\n",
    "yawn_ended = True\n",
    "\n",
    "# Start capturing video from the webcam\n",
    "cap = cv2.VideoCapture(0)\n",
    "\n",
    "while True:\n",
    "    ret, frame = cap.read()\n",
    "    if not ret:\n",
    "        break\n",
    "\n",
    "    # Convert the frame to grayscale\n",
    "    gray = cv2.cvtColor(frame, cv2.COLOR_BGR2GRAY)\n",
    "    gray = gray.astype('uint8')  # Ensure the grayscale image is of type uint8\n",
    "\n",
    "    # Detect faces in the grayscale frame\n",
    "    faces = detector(gray)\n",
    "\n",
    "    for face in faces:\n",
    "        # Get the facial landmarks\n",
    "        landmarks = predictor(gray, face)\n",
    "        landmarks = face_utils.shape_to_np(landmarks)\n",
    "\n",
    "        # Draw a rectangle around the face\n",
    "        (x, y, w, h) = face_utils.rect_to_bb(face)\n",
    "        cv2.rectangle(frame, (x, y), (x + w, y + h), (0, 255, 0), 2)\n",
    "\n",
    "        # Draw the landmarks on the face\n",
    "        for (x, y) in landmarks:\n",
    "            cv2.circle(frame, (x, y), 2, (255, 0, 0), -1)\n",
    "\n",
    "        # Extract the left and right eye coordinates\n",
    "        left_eye = landmarks[42:48]\n",
    "        right_eye = landmarks[36:42]\n",
    "\n",
    "        # Extract the mouth coordinates\n",
    "        mouth = landmarks[48:68]\n",
    "\n",
    "        # Calculate the eye aspect ratios (EARs)\n",
    "        left_ear = eye_aspect_ratio(left_eye)\n",
    "        right_ear = eye_aspect_ratio(right_eye)\n",
    "\n",
    "        # Average the EARs for both eyes\n",
    "        avg_ear = (left_ear + right_ear) / 2.0\n",
    "\n",
    "        # Calculate the mouth aspect ratio (MAR)\n",
    "        mar = mouth_aspect_ratio(mouth)\n",
    "\n",
    "        # Check if the average EAR is below the threshold\n",
    "        if avg_ear < EAR_THRESHOLD:\n",
    "            frames_counter += 1\n",
    "            if frames_counter >= EAR_CONSEC_FRAMES:\n",
    "                # If eyes are closed for a sufficient number of frames, trigger drowsiness\n",
    "                drowsy = True\n",
    "                cv2.putText(frame, \"DROWSINESS ALERT!\", (10, 30),\n",
    "                            cv2.FONT_HERSHEY_SIMPLEX, 0.7, (0, 0, 255), 2)\n",
    "                # Play a beep sound\n",
    "                winsound.Beep(1000, 500)  # Adjust the frequency and duration as needed\n",
    "        else:\n",
    "            frames_counter = 0\n",
    "            drowsy = False\n",
    "\n",
    "        # Check if the mouth aspect ratio (MAR) exceeds the threshold\n",
    "        if mar > MAR_THRESHOLD:\n",
    "            if yawn_ended:\n",
    "                yawn_counter += 1\n",
    "                yawn_ended = False\n",
    "            if yawn_counter >= YAWN_COUNTER_THRESHOLD:\n",
    "                # If mouth is open for a sufficient number of frames, trigger yawn detection\n",
    "                cv2.putText(frame, \"YAWN DETECTED!\", (10, 60),\n",
    "                            cv2.FONT_HERSHEY_SIMPLEX, 0.7, (0, 0, 255), 2)\n",
    "                # Play a beep sound\n",
    "                winsound.Beep(1000, 500)  # Adjust the frequency and duration as needed\n",
    "        else:\n",
    "            yawn_ended = True\n",
    "\n",
    "        # Draw the calculated eye aspect ratio (EAR) and mouth aspect ratio (MAR) on the frame\n",
    "        cv2.putText(frame, \"EAR: {:.2f}\".format(avg_ear), (300, 30),\n",
    "                    cv2.FONT_HERSHEY_SIMPLEX, 0.7, (0, 255, 0), 2)\n",
    "        cv2.putText(frame, \"MAR: {:.2f}\".format(mar), (300, 60),\n",
    "                    cv2.FONT_HERSHEY_SIMPLEX, 0.7, (0, 255, 0), 2)\n",
    "\n",
    "        # Display the yawn counter on the frame\n",
    "        cv2.putText(frame, \"Yawns: {}\".format(yawn_counter), (10, 90),\n",
    "                    cv2.FONT_HERSHEY_SIMPLEX, 0.7, (0, 0, 255), 2)\n",
    "\n",
    "    # Display the frame\n",
    "    cv2.imshow(\"Driver Drowsiness and Yawn Detection\", frame)\n",
    "\n",
    "    if cv2.waitKey(1) & 0xFF == ord('q'):\n",
    "        break\n",
    "\n",
    "# Release the video capture and close all windows\n",
    "cap.release()\n",
    "cv2.destroyAllWindows()"
   ]
  },
  {
   "cell_type": "code",
   "execution_count": null,
   "id": "6d19681f-27db-4818-9d0e-1ed7e7e0f643",
   "metadata": {},
   "outputs": [],
   "source": []
  }
 ],
 "metadata": {
  "kernelspec": {
   "display_name": "Python 3 (ipykernel)",
   "language": "python",
   "name": "python3"
  },
  "language_info": {
   "codemirror_mode": {
    "name": "ipython",
    "version": 3
   },
   "file_extension": ".py",
   "mimetype": "text/x-python",
   "name": "python",
   "nbconvert_exporter": "python",
   "pygments_lexer": "ipython3",
   "version": "3.13.3"
  }
 },
 "nbformat": 4,
 "nbformat_minor": 5
}
