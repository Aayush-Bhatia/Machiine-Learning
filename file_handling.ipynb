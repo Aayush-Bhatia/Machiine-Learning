{
 "cells": [
  {
   "cell_type": "markdown",
   "id": "46eec9d2-74fe-4c39-b1ec-ed47b44ee090",
   "metadata": {},
   "source": [
    "# file - ML model ho ya data scientist 60% data p kaam krta h\n",
    "- "
   ]
  },
  {
   "cell_type": "code",
   "execution_count": 13,
   "id": "a05f4917-8b4d-4869-9cde-29c9bcafce34",
   "metadata": {},
   "outputs": [],
   "source": [
    "file = open('test.txt','r')\n",
    "#stream kya hoti h? : continuous data like : live streaming on netflix etc.\n",
    "#file stream = file ka continuous data : stram hoti h vo file or program ko connect krti h\n"
   ]
  },
  {
   "cell_type": "code",
   "execution_count": 14,
   "id": "a41d6709-7150-4770-bdd3-c35a30221cfd",
   "metadata": {},
   "outputs": [
    {
     "name": "stdout",
     "output_type": "stream",
     "text": [
      "<_io.TextIOWrapper name='test.txt' mode='r' encoding='UTF-8'>\n"
     ]
    }
   ],
   "source": [
    "print(file)"
   ]
  },
  {
   "cell_type": "code",
   "execution_count": 15,
   "id": "81fd0675-db1f-4a37-b6d2-ab067a62adeb",
   "metadata": {},
   "outputs": [
    {
     "name": "stdout",
     "output_type": "stream",
     "text": [
      "<class '_io.TextIOWrapper'>\n"
     ]
    }
   ],
   "source": [
    "print(type(file))"
   ]
  },
  {
   "cell_type": "code",
   "execution_count": 20,
   "id": "e8c24fa8-ff28-4f8d-81b0-e4e2165a595c",
   "metadata": {},
   "outputs": [
    {
     "data": {
      "text/plain": [
       "'ush\\nAryans\\nhum coding blocks m baithkr padh rhe hai'"
      ]
     },
     "execution_count": 20,
     "metadata": {},
     "output_type": "execute_result"
    }
   ],
   "source": [
    "file.seek(10)\n",
    "file.read()"
   ]
  },
  {
   "cell_type": "code",
   "execution_count": 21,
   "id": "8638ccdb-07de-43a2-88a0-0b0392700531",
   "metadata": {},
   "outputs": [
    {
     "data": {
      "text/plain": [
       "['Akshit\\n',\n",
       " 'Aayush\\n',\n",
       " 'Aryans\\n',\n",
       " 'hum coding blocks m baithkr padh rhe hai']"
      ]
     },
     "execution_count": 21,
     "metadata": {},
     "output_type": "execute_result"
    }
   ],
   "source": [
    "file.seek(0)\n",
    "file.readlines()"
   ]
  },
  {
   "cell_type": "code",
   "execution_count": 22,
   "id": "ceb01241-234f-45d6-978c-0a3a66a22626",
   "metadata": {},
   "outputs": [
    {
     "name": "stdout",
     "output_type": "stream",
     "text": [
      "Akshit\n",
      "\n",
      "Aayush\n",
      "\n",
      "Aryans\n",
      "\n",
      "hum coding blocks m baithkr padh rhe hai\n"
     ]
    }
   ],
   "source": [
    "file.seek(0)\n",
    "for i in file.readlines():\n",
    "    print(i)"
   ]
  },
  {
   "cell_type": "code",
   "execution_count": 23,
   "id": "75686ff4-8ea8-47c8-9208-356404707898",
   "metadata": {},
   "outputs": [
    {
     "data": {
      "text/plain": [
       "'Akshit\\n'"
      ]
     },
     "execution_count": 23,
     "metadata": {},
     "output_type": "execute_result"
    }
   ],
   "source": [
    "file.seek(0)\n",
    "file.readline() #sirf ek line read krega"
   ]
  },
  {
   "cell_type": "code",
   "execution_count": 25,
   "id": "d2073e32-0f3d-4f00-a0f3-32af4aca4137",
   "metadata": {},
   "outputs": [
    {
     "name": "stdout",
     "output_type": "stream",
     "text": [
      "Akshit\n",
      "Aayush\n",
      "Aryans\n",
      "hum coding blocks m baithkr padh rhe hai"
     ]
    }
   ],
   "source": [
    "file.seek(0)\n",
    "s = file.readline()\n",
    "while s != '':\n",
    "    print(s,end = '')\n",
    "    s = file.readline()"
   ]
  },
  {
   "cell_type": "code",
   "execution_count": 26,
   "id": "91b4da09-f35d-4cd6-a7ec-970504c8cd01",
   "metadata": {},
   "outputs": [],
   "source": [
    "file.close()"
   ]
  },
  {
   "cell_type": "code",
   "execution_count": 1,
   "id": "0d6012f1-e606-48be-8bc6-705a2c53b6d7",
   "metadata": {},
   "outputs": [],
   "source": [
    "file = open('FileDemo.txt','w')"
   ]
  },
  {
   "cell_type": "code",
   "execution_count": 2,
   "id": "6684e7ff-c9bf-4713-8db1-8237c9c5a52e",
   "metadata": {},
   "outputs": [
    {
     "data": {
      "text/plain": [
       "23"
      ]
     },
     "execution_count": 2,
     "metadata": {},
     "output_type": "execute_result"
    }
   ],
   "source": [
    "file.write('''stmt1\n",
    "stmt2\n",
    "stmt3\n",
    "stmt4''')"
   ]
  },
  {
   "cell_type": "code",
   "execution_count": 3,
   "id": "6e65d89f-75f2-4bdd-8eac-e564cd2c6685",
   "metadata": {},
   "outputs": [],
   "source": [
    "file.close()"
   ]
  },
  {
   "cell_type": "code",
   "execution_count": null,
   "id": "2a539c74-5da9-4d76-ae5f-3e903a22ba50",
   "metadata": {},
   "outputs": [],
   "source": []
  }
 ],
 "metadata": {
  "kernelspec": {
   "display_name": "Python 3 (ipykernel)",
   "language": "python",
   "name": "python3"
  },
  "language_info": {
   "codemirror_mode": {
    "name": "ipython",
    "version": 3
   },
   "file_extension": ".py",
   "mimetype": "text/x-python",
   "name": "python",
   "nbconvert_exporter": "python",
   "pygments_lexer": "ipython3",
   "version": "3.13.2"
  }
 },
 "nbformat": 4,
 "nbformat_minor": 5
}
